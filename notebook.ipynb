{
 "cells": [
  {
   "cell_type": "markdown",
   "metadata": {
    "slideshow": {
     "slide_type": "slide"
    },
    "tags": []
   },
   "source": [
    "# K Means Clustering\n",
    "\n",
    "K-means clustering merupakan algoritma unsupervised machine learning  yang simpel dan sangat populer.\n",
    "\n",
    "Typically, unsupervised algorithms make inferences from datasets using only input vectors without referring to known, or labelled, outcomes.\n",
    "\n",
    "The k-means algorithm searches for a pre-determined number of clusters within an unlabeled multidimensional dataset. It accomplishes this using a simple conception of what the optimal clustering looks like:\n",
    "\n",
    "- The \"cluster center\" is the arithmetic mean of all the points belonging to the cluster.\n",
    "- Each point is closer to its own cluster center than to other cluster centers.\n",
    "\n",
    "Those two assumptions are the basis of the k-means model. We will soon dive into exactly how the algorithm reaches this solution, but for now let's take a look at a simple dataset and see the k-means result."
   ]
  },
  {
   "cell_type": "markdown",
   "metadata": {
    "slideshow": {
     "slide_type": "slide"
    }
   },
   "source": [
    "### Cara Kerja K Means\n",
    "  Inisialisi : Pilih k titik acak sebagai pusat cluster (centroid)  "
   ]
  },
  {
   "cell_type": "markdown",
   "metadata": {
    "slideshow": {
     "slide_type": "fragment"
    }
   },
   "source": [
    "  Iterasi:  \n",
    "    - Hitung jarak setiap titik ke centroid   \n",
    "    - Tentukan cluster dari titik tersebut berdasarkan jarak terdekat   \n",
    "    - Ubah centroid dengan mengambil rata-rata dari titik yang berada di cluster yang sama "
   ]
  },
  {
   "cell_type": "markdown",
   "metadata": {
    "slideshow": {
     "slide_type": "fragment"
    }
   },
   "source": [
    "  Berhenti berdasarkan kriteria berikut:  \n",
    "    - Tidak ada perubahan cluster   \n",
    "    - Jumlah iterasi sudah mencapai batas maksimum"
   ]
  },
  {
   "cell_type": "markdown",
   "metadata": {
    "slideshow": {
     "slide_type": "slide"
    }
   },
   "source": [
    "Cara menghitung jarak tiap titik ke centroid  \n",
    "  - Jarak euclidean  \n",
    "  - Jarak manhattan  \n",
    "\n",
    "Kali ini kita menggunakan jarak euclidean untuk menghitung jarak tiap titik ke centroidnya"
   ]
  },
  {
   "cell_type": "code",
   "execution_count": 1,
   "metadata": {
    "ExecuteTime": {
     "end_time": "2022-10-05T13:06:07.618118Z",
     "start_time": "2022-10-05T13:06:07.613745Z"
    },
    "code_folding": [],
    "slideshow": {
     "slide_type": "fragment"
    }
   },
   "outputs": [],
   "source": [
    "def euclidean_distance(point_1: list, point_2: list) -> float:\n",
    "    return sum([(a - b) ** 2 for a, b in zip(point_1, point_2)]) ** 0.5"
   ]
  },
  {
   "cell_type": "markdown",
   "metadata": {
    "slideshow": {
     "slide_type": "subslide"
    }
   },
   "source": [
    "\n",
    "Dan untuk menghitung jarak di antara centroid dengan titik lainnya kita menggunakan fungsi berikut"
   ]
  },
  {
   "cell_type": "code",
   "execution_count": 2,
   "metadata": {
    "ExecuteTime": {
     "end_time": "2022-10-05T13:07:45.079239Z",
     "start_time": "2022-10-05T13:07:45.073915Z"
    },
    "slideshow": {
     "slide_type": "fragment"
    }
   },
   "outputs": [],
   "source": [
    "def closest_point(point: list, centroids: list) -> list: \n",
    "    return min(centroids, key=lambda centroid: euclidean_distance(point, centroid))"
   ]
  },
  {
   "cell_type": "markdown",
   "metadata": {
    "slideshow": {
     "slide_type": "slide"
    }
   },
   "source": [
    "Lalu kita akan menghitung rata-rata dari titik yang berada di cluster yang sama"
   ]
  },
  {
   "cell_type": "code",
   "execution_count": 3,
   "metadata": {
    "ExecuteTime": {
     "end_time": "2022-10-05T13:08:55.843168Z",
     "start_time": "2022-10-05T13:08:55.837221Z"
    },
    "slideshow": {
     "slide_type": "fragment"
    }
   },
   "outputs": [],
   "source": [
    "def mean(points: list) -> list:\n",
    "    return [sum(x) / len(x) for x in zip(*points)]"
   ]
  },
  {
   "cell_type": "markdown",
   "metadata": {
    "slideshow": {
     "slide_type": "slide"
    }
   },
   "source": [
    "Setelah semua fungsi di atas sudah kita buat, kita akan membuat implementasi kelas KMeans"
   ]
  },
  {
   "cell_type": "code",
   "execution_count": 4,
   "metadata": {
    "code_folding": [
     8
    ],
    "notebookRunGroups": {
     "groupValue": "1"
    },
    "scrolled": true,
    "slideshow": {
     "slide_type": "fragment"
    },
    "tags": []
   },
   "outputs": [],
   "source": [
    "import random\n",
    "class KMeans:\n",
    "    def __init__(self, data: list, n_clusters=2, max_iteration=300, n_init=10):\n",
    "        self.n_clusters = n_clusters\n",
    "        self.data = data\n",
    "        self.max_iteration = max_iteration\n",
    "        self.n_init = n_init\n",
    "\n",
    "        self.centroids = []\n",
    "        self.clusters = []\n",
    "        self.inertia = None\n",
    "\n",
    "    def kmeans(self):\n",
    "        centroids = random.sample(self.data, self.n_clusters)\n",
    "        for _ in range(self.max_iteration):\n",
    "            clusters = [[] for _ in range(self.n_clusters)]\n",
    "            for x in self.data:\n",
    "                closest = closest_point(x, centroids)\n",
    "                clusters[centroids.index(closest)].append(x)\n",
    "            new_centroids = []\n",
    "            for cluster in clusters:\n",
    "                new_centroids.append(mean(cluster))\n",
    "            if new_centroids == centroids:\n",
    "                break\n",
    "            centroids = new_centroids\n",
    "        return centroids, clusters"
   ]
  },
  {
   "cell_type": "markdown",
   "metadata": {
    "slideshow": {
     "slide_type": "slide"
    }
   },
   "source": [
    "Dikarenakan pengambilan centroid awal dilakukan secara random, hasil clustering yang didapatkan tidak akan selalu optimal. "
   ]
  },
  {
   "cell_type": "code",
   "execution_count": 5,
   "metadata": {
    "slideshow": {
     "slide_type": "fragment"
    }
   },
   "outputs": [
    {
     "name": "stdout",
     "output_type": "stream",
     "text": [
      "Iteration 0: [[5.5, 2.0], [5.5, 4.0]]\n",
      "Iteration 1: [[1.0, 3.0], [10.0, 3.0]]\n",
      "Iteration 2: [[1.0, 3.0], [10.0, 3.0]]\n",
      "Iteration 3: [[1.0, 3.0], [10.0, 3.0]]\n",
      "Iteration 4: [[10.0, 3.0], [1.0, 3.0]]\n",
      "Iteration 5: [[10.0, 3.0], [1.0, 3.0]]\n",
      "Iteration 6: [[1.0, 3.0], [10.0, 3.0]]\n",
      "Iteration 7: [[1.0, 3.0], [10.0, 3.0]]\n",
      "Iteration 8: [[5.5, 2.0], [5.5, 4.0]]\n",
      "Iteration 9: [[10.0, 3.0], [1.0, 3.0]]\n"
     ]
    }
   ],
   "source": [
    "for i in range(10):\n",
    "    kmeans = KMeans([[1, 2], [1, 4], [10, 2], [10, 4]])\n",
    "    centroids, clusters = kmeans.kmeans()\n",
    "    print(f\"Iteration {i}: {centroids}\")"
   ]
  },
  {
   "cell_type": "markdown",
   "metadata": {
    "slideshow": {
     "slide_type": "subslide"
    }
   },
   "source": [
    "Oleh karena itu kita akan mengulang proses clustering sebanyak n_init kali dan dan menghitung nilai inertia untuk setiap centroid yang didapatkan. Lalu kita akan mengambil centroid dengan nilai inertia terkecil"
   ]
  },
  {
   "cell_type": "code",
   "execution_count": 6,
   "metadata": {
    "scrolled": true,
    "slideshow": {
     "slide_type": "fragment"
    }
   },
   "outputs": [
    {
     "name": "stdout",
     "output_type": "stream",
     "text": [
      "[[10.0, 3.0], [1.0, 3.0]]\n",
      "[[1.0, 3.0], [10.0, 3.0]]\n",
      "[[1.0, 3.0], [10.0, 3.0]]\n",
      "[[10.0, 3.0], [1.0, 3.0]]\n",
      "[[1.0, 3.0], [10.0, 3.0]]\n"
     ]
    }
   ],
   "source": [
    "def fit(self):\n",
    "    for _ in range(self.n_init):\n",
    "        centroids, clusters = self.kmeans()\n",
    "\n",
    "        current_inertia = 0\n",
    "        for centroid, cluster in zip(centroids, clusters):\n",
    "            for point in cluster:\n",
    "                current_inertia += euclidean_distance(point, centroid) ** 2\n",
    "        if self.inertia is None or current_inertia < self.inertia:\n",
    "            self.inertia = current_inertia\n",
    "            self.centroids = centroids\n",
    "            self.clusters = clusters\n",
    "            \n",
    "KMeans.fit = fit\n",
    "\n",
    "for i in range(5):\n",
    "    kmeans = KMeans([[1, 2], [1, 4], [10, 2], [10, 4]])\n",
    "    kmeans.fit()\n",
    "    print(kmeans.centroids)"
   ]
  },
  {
   "cell_type": "markdown",
   "metadata": {
    "slideshow": {
     "slide_type": "slide"
    }
   },
   "source": [
    "Sebelum melakukan percobaan, kita akan mengimport library dan fungsi yang dibutuhkan"
   ]
  },
  {
   "cell_type": "code",
   "execution_count": 7,
   "metadata": {
    "slideshow": {
     "slide_type": "fragment"
    }
   },
   "outputs": [],
   "source": [
    "def generate_random_data(n=100, k=2, min=0, max=100) -> list:\n",
    "    return [[random.randint(min, max) for _ in range(k)] for _ in range(n)]\n",
    "\n",
    "import matplotlib.pyplot as plt\n",
    "\n",
    "def plot_2d(data: list, centroids: list):\n",
    "    colors = ['r', 'y', 'b', 'c', 'k', 'g', 'm']\n",
    "    for i, centroid in enumerate(centroids):\n",
    "        plt.scatter([x[0] for x in data[i]], [x[1]\n",
    "                                              for x in data[i]], c=colors[i])\n",
    "        plt.scatter(centroid[0], centroid[1], c='black', marker='x')\n",
    "\n",
    "    plt.show()\n",
    "\n",
    "\n",
    "def plot_3d(clusters: list, centroids: list):\n",
    "    colors = ['r', 'y', 'b', 'c', 'k', 'g', 'm']\n",
    "    fig = plt.figure()\n",
    "    ax = fig.add_subplot(111, projection='3d')\n",
    "    for i, cluster in enumerate(clusters):\n",
    "        ax.scatter([x[0] for x in cluster], [x[1]\n",
    "                                             for x in cluster], [x[2] for x in cluster], c=colors[i])\n",
    "        ax.scatter(centroids[i][0], centroids[i][1],\n",
    "                   centroids[i][2], c='black', marker='x')"
   ]
  },
  {
   "cell_type": "markdown",
   "metadata": {
    "slideshow": {
     "slide_type": "slide"
    }
   },
   "source": [
    "Uji coba k-means clustering dengan dataset acak"
   ]
  },
  {
   "cell_type": "code",
   "execution_count": 50,
   "metadata": {
    "slideshow": {
     "slide_type": "fragment"
    }
   },
   "outputs": [
    {
     "name": "stdout",
     "output_type": "stream",
     "text": [
      "[[78.25, 52.07142857142857], [28.40909090909091, 57.36363636363637]]\n"
     ]
    },
    {
     "data": {
      "image/png": "[encoded data removed]",
      "text/plain": [
       "<Figure size 432x288 with 1 Axes>"
      ]
     },
     "metadata": {
      "needs_background": "light"
     },
     "output_type": "display_data"
    }
   ],
   "source": [
    "data = generate_random_data(n=100, k=2)\n",
    "kmeans = KMeans(data, n_clusters=2)\n",
    "kmeans.fit()\n",
    "print(kmeans.centroids)\n",
    "plot_2d(kmeans.clusters, kmeans.centroids)"
   ]
  }
 ],
 "metadata": {
  "celltoolbar": "Slideshow",
  "kernelspec": {
   "display_name": "Python 3 (ipykernel)",
   "language": "python",
   "name": "python3"
  },
  "language_info": {
   "codemirror_mode": {
    "name": "ipython",
    "version": 3
   },
   "file_extension": ".py",
   "mimetype": "text/x-python",
   "name": "python",
   "nbconvert_exporter": "python",
   "pygments_lexer": "ipython3",
   "version": "3.10.7"
  },
  "varInspector": {
   "cols": {
    "lenName": 16,
    "lenType": 16,
    "lenVar": 40
   },
   "kernels_config": {
    "python": {
     "delete_cmd_postfix": "",
     "delete_cmd_prefix": "del ",
     "library": "var_list.py",
     "varRefreshCmd": "print(var_dic_list())"
    },
    "r": {
     "delete_cmd_postfix": ") ",
     "delete_cmd_prefix": "rm(",
     "library": "var_list.r",
     "varRefreshCmd": "cat(var_dic_list()) "
    }
   },
   "types_to_exclude": [
    "module",
    "function",
    "builtin_function_or_method",
    "instance",
    "_Feature"
   ],
   "window_display": false
  },
  "vscode": {
   "interpreter": {
    "hash": "90fa1a421643e410ef349d25ea849579d791d1a31694fa865f38515e471aaea6"
   }
  }
 },
 "nbformat": 4,
 "nbformat_minor": 4
}
