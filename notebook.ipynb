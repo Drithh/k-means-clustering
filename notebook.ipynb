{
 "cells": [
  {
   "cell_type": "markdown",
   "metadata": {
    "slideshow": {
     "slide_type": "slide"
    },
    "tags": []
   },
   "source": [
    "# K Means Clustering\n",
    "\n",
    "K-means clustering merupakan algoritma unsupervised machine learning  yang simpel dan sangat populer.\n",
    "\n",
    "Typically, unsupervised algorithms make inferences from datasets using only input vectors without referring to known, or labelled, outcomes.\n",
    "\n",
    "The k-means algorithm searches for a pre-determined number of clusters within an unlabeled multidimensional dataset. It accomplishes this using a simple conception of what the optimal clustering looks like:\n",
    "\n",
    "- The \"cluster center\" is the arithmetic mean of all the points belonging to the cluster.\n",
    "- Each point is closer to its own cluster center than to other cluster centers.\n",
    "\n",
    "Those two assumptions are the basis of the k-means model. We will soon dive into exactly how the algorithm reaches this solution, but for now let's take a look at a simple dataset and see the k-means result."
   ]
  },
  {
   "cell_type": "markdown",
   "metadata": {
    "slideshow": {
     "slide_type": "slide"
    }
   },
   "source": [
    "### Cara Kerja K Means\n",
    "  Inisialisi : Pilih k titik acak sebagai pusat cluster (centroid)  \n",
    "\n",
    "  Lalu lakukan iterasi berikut sampai tidak ada perubahan lagi pada centroid  \n",
    "    - Hitung jarak setiap titik ke centroid  \n",
    "    - Ubah centroid dengan mengambil rata-rata dari titik yang berada di cluster yang sama  "
   ]
  },
  {
   "cell_type": "markdown",
   "metadata": {
    "slideshow": {
     "slide_type": "slide"
    }
   },
   "source": [
    "Cara menghitung jarak tiap titik ke centroid  \n",
    "  - Jarak euclidean  \n",
    "  - Jarak manhattan  \n",
    "  - Jarak cosine\n",
    "\n",
    "Kali ini kita menggunakan jarak euclidean untuk menghitung jarak tiap titik ke centroidnya"
   ]
  },
  {
   "cell_type": "code",
   "execution_count": 33,
   "metadata": {
    "code_folding": [
     0
    ],
    "slideshow": {
     "slide_type": "fragment"
    }
   },
   "outputs": [
    {
     "data": {
      "text/plain": [
       "3.4641016151377544"
      ]
     },
     "execution_count": 33,
     "metadata": {},
     "output_type": "execute_result"
    }
   ],
   "source": [
    "def euclidean_distance(point_1: list, point_2: list) -> float:\n",
    "    return sum([(a - b) ** 2 for a, b in zip(point_1, point_2)]) ** 0.5\n",
    "\n",
    "euclidean_distance([0,0,0], [2,2,2])"
   ]
  },
  {
   "cell_type": "markdown",
   "metadata": {
    "slideshow": {
     "slide_type": "subslide"
    }
   },
   "source": [
    "\n",
    "Dan untuk menghitung jarak di antara centroid dengan titik lainnya kita menggunakan fungsi berikut"
   ]
  },
  {
   "cell_type": "code",
   "execution_count": null,
   "metadata": {
    "slideshow": {
     "slide_type": "fragment"
    }
   },
   "outputs": [],
   "source": [
    "def closest_point(point: list, centroids: list) -> list:\n",
    "    return min(centroids, key=lambda centroid: euclidean_distance(point, centroid))"
   ]
  },
  {
   "cell_type": "markdown",
   "metadata": {
    "slideshow": {
     "slide_type": "slide"
    }
   },
   "source": [
    "Lalu kita akan menghitung rata-rata dari titik yang berada di cluster yang sama"
   ]
  },
  {
   "cell_type": "code",
   "execution_count": 39,
   "metadata": {
    "slideshow": {
     "slide_type": "fragment"
    }
   },
   "outputs": [
    {
     "data": {
      "text/plain": [
       "[2.0, 2.0]"
      ]
     },
     "execution_count": 39,
     "metadata": {},
     "output_type": "execute_result"
    }
   ],
   "source": [
    "def mean(points: list) -> list:\n",
    "    return [sum(x) / len(x) for x in zip(*points)]\n",
    "\n",
    "mean([[1,1], [2,2], [3,3]])"
   ]
  },
  {
   "cell_type": "markdown",
   "metadata": {
    "slideshow": {
     "slide_type": "slide"
    }
   },
   "source": [
    "Setelah semua fungsi di atas sudah kita buat, kita akan membuat implementasi kelas KMeans"
   ]
  },
  {
   "cell_type": "code",
   "execution_count": null,
   "metadata": {
    "slideshow": {
     "slide_type": "skip"
    }
   },
   "outputs": [],
   "source": [
    "import randomx"
   ]
  },
  {
   "cell_type": "code",
   "execution_count": 40,
   "metadata": {
    "code_folding": [
     3,
     9
    ],
    "scrolled": true,
    "slideshow": {
     "slide_type": "fragment"
    },
    "tags": []
   },
   "outputs": [
    {
     "name": "stdout",
     "output_type": "stream",
     "text": [
      "[[[4, 4], [5, 5]], [[0, 0], [1, 1]]]\n"
     ]
    }
   ],
   "source": [
    "class KMeans:\n",
    "    def __init__(self, data: list, n_clusters=2, max_iteration=300):\n",
    "        self.n_clusters = n_clusters\n",
    "        self.data = data\n",
    "        self.max_iteration = max_iteration\n",
    "        self.centroids = self.fit()\n",
    "\n",
    "    def fit(self) -> list:\n",
    "        centroids = random.sample(self.data, self.n_clusters)\n",
    "        for _ in range(self.max_iteration):\n",
    "            clusters = [[] for _ in range(self.n_clusters)]\n",
    "            for x in self.data:\n",
    "                closest = closest_point(x, centroids)\n",
    "                clusters[centroids.index(closest)].append(x)\n",
    "            new_centroids = []\n",
    "            for cluster in clusters:\n",
    "                new_centroids.append(mean(cluster))\n",
    "            if new_centroids == centroids:\n",
    "                self.clusters = clusters\n",
    "                break\n",
    "            centroids = new_centroids\n",
    "            \n",
    "k_means = KMeans([[0,0],[1,1],[4,4],[5,5]])\n",
    "print(k_means.clusters)\n",
    "\n",
    "\n",
    "\n"
   ]
  }
 ],
 "metadata": {
  "celltoolbar": "Slideshow",
  "kernelspec": {
   "display_name": "Python 3 (ipykernel)",
   "language": "python",
   "name": "python3"
  },
  "language_info": {
   "codemirror_mode": {
    "name": "ipython",
    "version": 3
   },
   "file_extension": ".py",
   "mimetype": "text/x-python",
   "name": "python",
   "nbconvert_exporter": "python",
   "pygments_lexer": "ipython3",
   "version": "3.10.7"
  },
  "varInspector": {
   "cols": {
    "lenName": 16,
    "lenType": 16,
    "lenVar": 40
   },
   "kernels_config": {
    "python": {
     "delete_cmd_postfix": "",
     "delete_cmd_prefix": "del ",
     "library": "var_list.py",
     "varRefreshCmd": "print(var_dic_list())"
    },
    "r": {
     "delete_cmd_postfix": ") ",
     "delete_cmd_prefix": "rm(",
     "library": "var_list.r",
     "varRefreshCmd": "cat(var_dic_list()) "
    }
   },
   "types_to_exclude": [
    "module",
    "function",
    "builtin_function_or_method",
    "instance",
    "_Feature"
   ],
   "window_display": false
  },
  "vscode": {
   "interpreter": {
    "hash": "90fa1a421643e410ef349d25ea849579d791d1a31694fa865f38515e471aaea6"
   }
  }
 },
 "nbformat": 4,
 "nbformat_minor": 4
}
