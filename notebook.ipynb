{
  "cells": [
    {
      "cell_type": "markdown",
      "metadata": {
        "slideshow": {
          "slide_type": "slide"
        },
        "tags": []
      },
      "source": [
        "# K Means Clustering\n",
        "\n",
        "K-means clustering adalah algoritma pembelajaran sederhana yang digunakan untuk memecahkan masalah clustering. Algoritma ini mengikuti prosedur sederhana untuk mengklasifikasikan kumpulan data yang diberikan ke dalam sejumlah cluster, yang ditentukan sebelumnya. lalu bagaiamana model basis dari k-means\n",
        "\n",
        "- Setiap cluster memiliki titik pusat yang merupakan rata-rata dari semua titik yang terdapat di dalam cluster tersebut\n",
        "- Setiap titik lebih dekat ke titik pusat clusternya daripada ke titik pusat cluster lainnya"
      ]
    },
    {
      "cell_type": "markdown",
      "metadata": {
        "slideshow": {
          "slide_type": "slide"
        }
      },
      "source": [
        "### Cara Kerja K Means\n",
        "  Inisialisasi : Pilih k titik acak sebagai pusat cluster (centroid)  "
      ]
    },
    {
      "cell_type": "markdown",
      "metadata": {
        "slideshow": {
          "slide_type": "fragment"
        }
      },
      "source": [
        "  Iterasi:  \n",
        "    - Hitung jarak setiap titik ke centroid   \n",
        "    - Tentukan cluster dari titik tersebut berdasarkan jarak terdekat   \n",
        "    - Ubah centroid dengan mengambil rata-rata dari titik yang berada di cluster yang sama "
      ]
    },
    {
      "cell_type": "markdown",
      "metadata": {
        "slideshow": {
          "slide_type": "fragment"
        }
      },
      "source": [
        "  Berhenti berdasarkan kriteria berikut:  \n",
        "    - Tidak ada perubahan cluster   \n",
        "    - Jumlah iterasi sudah mencapai batas maksimum"
      ]
    },
    {
      "cell_type": "markdown",
      "metadata": {
        "slideshow": {
          "slide_type": "slide"
        }
      },
      "source": [
        "Cara menghitung jarak tiap titik ke centroid  \n",
        "  - Jarak euclidean  \n",
        "  - Jarak manhattan  \n",
        "\n",
        "Kali ini kita menggunakan jarak euclidean untuk menghitung jarak tiap titik ke centroidnya"
      ]
    },
    {
      "cell_type": "code",
      "execution_count": 18,
      "metadata": {
        "ExecuteTime": {
          "end_time": "2022-10-05T13:06:07.618118Z",
          "start_time": "2022-10-05T13:06:07.613745Z"
        },
        "code_folding": [],
        "slideshow": {
          "slide_type": "fragment"
        }
      },
      "outputs": [],
      "source": [
        "def euclidean_distance(point_1: list, point_2: list) -> float:\n",
        "    return sum([(a - b) ** 2 for a, b in zip(point_1, point_2)]) ** 0.5"
      ]
    },
    {
      "cell_type": "markdown",
      "metadata": {
        "slideshow": {
          "slide_type": "subslide"
        }
      },
      "source": [
        "Dan untuk menghitung jarak terdekat di antara  titik dengan centroid, kita dapat menggunakan fungsi berikut"
      ]
    },
    {
      "cell_type": "code",
      "execution_count": 19,
      "metadata": {
        "ExecuteTime": {
          "end_time": "2022-10-05T13:07:45.079239Z",
          "start_time": "2022-10-05T13:07:45.073915Z"
        },
        "slideshow": {
          "slide_type": "fragment"
        }
      },
      "outputs": [],
      "source": [
        "def closest_point(point: list, centroids: list) -> list: \n",
        "    return min(centroids, key=lambda centroid: euclidean_distance(point, centroid))"
      ]
    },
    {
      "cell_type": "markdown",
      "metadata": {
        "slideshow": {
          "slide_type": "slide"
        }
      },
      "source": [
        "Lalu kita akan menghitung rata-rata dari titik yang berada di cluster yang sama"
      ]
    },
    {
      "cell_type": "code",
      "execution_count": 20,
      "metadata": {
        "ExecuteTime": {
          "end_time": "2022-10-05T13:08:55.843168Z",
          "start_time": "2022-10-05T13:08:55.837221Z"
        },
        "slideshow": {
          "slide_type": "fragment"
        }
      },
      "outputs": [],
      "source": [
        "def mean(points: list) -> list:\n",
        "    return [sum(x) / len(x) for x in zip(*points)]"
      ]
    },
    {
      "cell_type": "markdown",
      "metadata": {
        "slideshow": {
          "slide_type": "slide"
        }
      },
      "source": [
        "Setelah semua fungsi di atas sudah kita buat, kita akan membuat implementasi kelas KMeans"
      ]
    },
    {
      "cell_type": "code",
      "execution_count": 21,
      "metadata": {
        "code_folding": [
          8
        ],
        "notebookRunGroups": {
          "groupValue": "1"
        },
        "scrolled": true,
        "slideshow": {
          "slide_type": "fragment"
        },
        "tags": []
      },
      "outputs": [],
      "source": [
        "import random\n",
        "class KMeans:\n",
        "    def __init__(self, data: list, n_clusters=2, max_iteration=300, n_init=10):\n",
        "        self.n_clusters = n_clusters\n",
        "        self.data = data\n",
        "        self.max_iteration = max_iteration\n",
        "        self.n_init = n_init\n",
        "\n",
        "        self.centroids = []\n",
        "        self.clusters = []\n",
        "        self.inertia = None\n",
        "\n",
        "    def kmeans(self):\n",
        "        centroids = random.sample(self.data, self.n_clusters)\n",
        "        for _ in range(self.max_iteration):\n",
        "            clusters = [[] for _ in range(self.n_clusters)]\n",
        "            for x in self.data:\n",
        "                closest = closest_point(x, centroids)\n",
        "                clusters[centroids.index(closest)].append(x)\n",
        "            new_centroids = []\n",
        "            for cluster in clusters:\n",
        "                new_centroids.append(mean(cluster))\n",
        "            if new_centroids == centroids:\n",
        "                break\n",
        "            centroids = new_centroids\n",
        "        return centroids, clusters"
      ]
    },
    {
      "cell_type": "markdown",
      "metadata": {
        "slideshow": {
          "slide_type": "slide"
        }
      },
      "source": [
        "Dikarenakan pengambilan centroid awal dilakukan secara random, hasil clustering yang didapatkan tidak akan selalu optimal. "
      ]
    },
    {
      "cell_type": "code",
      "execution_count": null,
      "metadata": {},
      "outputs": [],
      "source": [
        "for i in range(10):\n",
        "    kmeans = KMeans([[1, 2], [1, 4], [10, 2], [10, 4]])\n",
        "    centroids, clusters = kmeans.kmeans()\n",
        "    print(f\"Iteration {i}: {centroids}\")"
      ]
    },
    {
      "cell_type": "markdown",
      "metadata": {
        "slideshow": {
          "slide_type": "subslide"
        }
      },
      "source": [
        "Oleh karena itu kita akan mengulang proses clustering sebanyak n_init kali dan menghitung nilai inertia untuk setiap cluster yang dihasilkan. Lalu kita akan mengambil cluster dengan nilai inertia terkecil"
      ]
    },
    {
      "cell_type": "code",
      "execution_count": null,
      "metadata": {
        "scrolled": true,
        "slideshow": {
          "slide_type": "fragment"
        }
      },
      "outputs": [],
      "source": [
        "def fit(self):\n",
        "    for _ in range(self.n_init):\n",
        "        centroids, clusters = self.kmeans()\n",
        "\n",
        "        current_inertia = 0\n",
        "        for centroid, cluster in zip(centroids, clusters):\n",
        "            for point in cluster:\n",
        "                current_inertia += euclidean_distance(point, centroid) ** 2\n",
        "        if self.inertia is None or current_inertia < self.inertia:\n",
        "            self.inertia = current_inertia\n",
        "            self.centroids = centroids\n",
        "            self.clusters = clusters\n",
        "            \n",
        "KMeans.fit = fit\n",
        "\n",
        "for i in range(5):\n",
        "    kmeans = KMeans([[1, 2], [1, 4], [10, 2], [10, 4]])\n",
        "    kmeans.fit()\n",
        "    print(kmeans.centroids)"
      ]
    },
    {
      "cell_type": "markdown",
      "metadata": {
        "slideshow": {
          "slide_type": "slide"
        }
      },
      "source": [
        "Sebelum melakukan percobaan, kita akan mengimport library dan fungsi yang dibutuhkan"
      ]
    },
    {
      "cell_type": "code",
      "execution_count": 32,
      "metadata": {
        "slideshow": {
          "slide_type": "fragment"
        }
      },
      "outputs": [],
      "source": [
        "def generate_random_data(n=100, k=2, min=0, max=100) -> list:\n",
        "    return [[random.randint(min, max) for _ in range(k)] for _ in range(n)]\n",
        "\n",
        "import matplotlib.pyplot as plt\n",
        "\n",
        "def plot_2d(data: list, centroids: list):\n",
        "    colors = ['r', 'y', 'b', 'c', 'k', 'g', 'm']\n",
        "    for i, centroid in enumerate(centroids):\n",
        "        plt.scatter([x[0] for x in data[i]], [x[1]\n",
        "                                              for x in data[i]], c=colors[i])\n",
        "        plt.scatter(centroid[0], centroid[1], c='black', marker='x')\n",
        "\n",
        "    plt.show()\n",
        "\n",
        "\n",
        "def plot_3d(clusters: list, centroids: list):\n",
        "    colors = ['r', 'y', 'b', 'c', 'k', 'g', 'm']\n",
        "    fig = plt.figure()\n",
        "    ax = fig.add_subplot(111, projection='3d')\n",
        "    for i, cluster in enumerate(clusters):\n",
        "        ax.scatter([x[0] for x in cluster], [x[1]\n",
        "                                             for x in cluster], [x[2] for x in cluster], c=colors[i])\n",
        "        ax.scatter(centroids[i][0], centroids[i][1],\n",
        "                   centroids[i][2], c='black', marker='x')"
      ]
    },
    {
      "cell_type": "markdown",
      "metadata": {
        "slideshow": {
          "slide_type": "slide"
        }
      },
      "source": [
        "Uji coba k-means clustering dengan dataset acak"
      ]
    },
    {
      "cell_type": "code",
      "execution_count": null,
      "metadata": {
        "slideshow": {
          "slide_type": "fragment"
        }
      },
      "outputs": [],
      "source": [
        "data = generate_random_data(n=100, k=2)\n",
        "kmeans = KMeans(data, n_clusters=3)\n",
        "kmeans.fit()\n",
        "# print(kmeans.centroids)\n",
        "plot_3d(kmeans.clusters, kmeans.centroids)"
      ]
    }
  ],
  "metadata": {
    "celltoolbar": "Slideshow",
    "kernelspec": {
      "display_name": "Python 3 (ipykernel)",
      "language": "python",
      "name": "python3"
    },
    "language_info": {
      "codemirror_mode": {
        "name": "ipython",
        "version": 3
      },
      "file_extension": ".py",
      "mimetype": "text/x-python",
      "name": "python",
      "nbconvert_exporter": "python",
      "pygments_lexer": "ipython3",
      "version": "3.10.8"
    },
    "rise": {
      "autolaunch": true,
      "enable_chalkboard": true,
      "scroll": true
    },
    "varInspector": {
      "cols": {
        "lenName": 16,
        "lenType": 16,
        "lenVar": 40
      },
      "kernels_config": {
        "python": {
          "delete_cmd_postfix": "",
          "delete_cmd_prefix": "del ",
          "library": "var_list.py",
          "varRefreshCmd": "print(var_dic_list())"
        },
        "r": {
          "delete_cmd_postfix": ") ",
          "delete_cmd_prefix": "rm(",
          "library": "var_list.r",
          "varRefreshCmd": "cat(var_dic_list()) "
        }
      },
      "types_to_exclude": [
        "module",
        "function",
        "builtin_function_or_method",
        "instance",
        "_Feature"
      ],
      "window_display": false
    },
    "vscode": {
      "interpreter": {
        "hash": "90fa1a421643e410ef349d25ea849579d791d1a31694fa865f38515e471aaea6"
      }
    }
  },
  "nbformat": 4,
  "nbformat_minor": 4
}
